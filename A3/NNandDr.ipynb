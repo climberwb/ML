{
 "cells": [
  {
   "cell_type": "code",
   "execution_count": 1,
   "metadata": {},
   "outputs": [],
   "source": [
    "from sklearn.datasets import make_classification\n",
    "from torch import nn, optim\n",
    "from skorch import NeuralNetClassifier\n",
    "import numpy  as np\n",
    "# sys.path.append('./pyperch')\n",
    "# from pyperch.neural.backprop_nn import BackpropModule\n",
    "import matplotlib.pyplot as plt\n",
    "import torch\n",
    "import random\n",
    "from ucimlrepo import fetch_ucirepo\n",
    "from sklearn.metrics import accuracy_score, make_scorer, f1_score, confusion_matrix, log_loss\n",
    "\n",
    "import matplotlib.pyplot as plt\n",
    "import numpy as np\n",
    "from sklearn.manifold import TSNE\n",
    "from pipelines import KMeans_pipeline, TSNE_pipeline\n",
    "from sklearn.cluster import KMeans\n",
    "from sklearn.metrics import silhouette_score\n",
    "import matplotlib.pyplot as plt\n",
    "import helpers\n",
    "import importlib\n",
    "import pipelines\n",
    "import pipeline_helpers\n",
    "import seaborn as sns\n",
    "from scipy.stats import kurtosis\n",
    "from notebook_helper import reload_notebook_cell, generate_seed\n",
    "\n"
   ]
  },
  {
   "cell_type": "markdown",
   "metadata": {},
   "source": [
    "## Get Data"
   ]
  },
  {
   "cell_type": "code",
   "execution_count": 3,
   "metadata": {},
   "outputs": [
    {
     "name": "stderr",
     "output_type": "stream",
     "text": [
      "c:\\Users\\WarrenKushner\\Documents\\ML\\A3\\generate_data.py:49: SettingWithCopyWarning: \n",
      "A value is trying to be set on a copy of a slice from a DataFrame.\n",
      "Try using .loc[row_indexer,col_indexer] = value instead\n",
      "\n",
      "See the caveats in the documentation: https://pandas.pydata.org/pandas-docs/stable/user_guide/indexing.html#returning-a-view-versus-a-copy\n",
      "  X[(X[\"Marital Status\"]  != 1) & (X[\"Marital Status\"] != 2) & (X[\"Marital Status\"] != 4)][\"Marital Status\"] = -1\n"
     ]
    },
    {
     "name": "stdout",
     "output_type": "stream",
     "text": [
      "Removed columns: [\"encoding__Mother's qualification_18\", \"encoding__Mother's qualification_44\", \"encoding__Father's qualification_18\", \"encoding__Father's occupation_161\"]\n",
      "Number of features after removal: 200\n"
     ]
    }
   ],
   "source": [
    "\n",
    "from generate_data import get_and_preprocess_sdas_data, get_and_preprocess_raisin_data, y_label_encode, CATEGORY_COLUMNS_UCML\n",
    "from sklearn.preprocessing import  LabelEncoder\n",
    "reload_notebook_cell()\n",
    "\n",
    "X_train_sdas, X_test_sdas, y_train_sdas, y_test_sdas = get_and_preprocess_sdas_data()\n",
    "X_train_raisin, X_test_raisin, y_train_raisin, y_test_raisin = get_and_preprocess_raisin_data()\n",
    "\n",
    "# Initialize and fit LabelEncoder\n",
    "y_train_encoded_sdas, y_test_encoded_sdas, label_encoder_sdas = y_label_encode(y_train_sdas,y_test_sdas)\n",
    "y_train_encode_raisin, y_test_encode_raisin, label_encoder_raisin = y_label_encode(y_train_raisin, y_test_raisin)\n",
    "\n",
    "# get data to correct type for NN\n",
    "y_train_encoded_sdas = y_train_encoded_sdas.astype(np.int64)\n",
    "y_train_encode_raisin = y_train_encode_raisin.astype(np.int64)"
   ]
  },
  {
   "cell_type": "code",
   "execution_count": 20,
   "metadata": {},
   "outputs": [
    {
     "name": "stdout",
     "output_type": "stream",
     "text": [
      "cpu\n"
     ]
    },
    {
     "data": {
      "text/plain": [
       "array([0, 2, 2, 1, 0, 2, 2, 1, 2, 2, 2, 2, 2, 2, 2, 2, 2, 2, 0, 2, 2, 0,\n",
       "       0, 2, 2, 2, 0, 2, 1, 0, 1, 0, 1, 0, 0, 2, 2, 1, 2, 2, 0, 0, 1, 0,\n",
       "       0, 2, 2, 2, 2, 2, 1, 2, 2, 0, 1, 0, 2, 0, 2, 2, 2, 2, 2, 2, 2, 2,\n",
       "       2, 2, 2, 0, 2, 2, 0, 2, 2, 2, 2, 2, 2, 2, 0, 0, 2, 2, 2, 1, 2, 2,\n",
       "       2, 2, 0, 2, 2, 2, 0, 0, 0, 1, 0, 0, 2, 2, 1, 0, 0, 1, 2, 0, 2, 0,\n",
       "       0, 2, 2, 2, 2, 2, 2, 2, 2, 0, 0, 0, 0, 2, 1, 0, 2, 0, 2, 2, 2, 2,\n",
       "       2, 0, 2, 2, 0, 2, 0, 1, 1, 0, 2, 2, 2, 2, 2, 2, 0, 2, 2, 0, 0, 2,\n",
       "       0, 2, 2, 2, 0, 2, 2, 2, 2, 2, 1, 1, 0, 1, 2, 0, 2, 2, 2, 2, 0, 2,\n",
       "       1, 0, 1, 0, 0, 2, 0, 0, 2, 0, 0, 2, 2, 0, 2, 1, 0, 1, 1, 2, 2, 2,\n",
       "       0, 2, 0, 2, 2, 2, 2, 0, 2, 2, 2, 0, 2, 0, 2, 2, 2, 0, 2, 0, 0, 1,\n",
       "       2, 2, 0, 2, 0, 0, 2, 0, 0, 2, 2, 0, 1, 0, 1, 0, 0, 2, 2, 2, 2, 0,\n",
       "       1, 1, 2, 0, 0, 0, 2, 1, 2, 2, 2, 2, 2, 2, 0, 2, 2, 2, 2, 2, 0, 0,\n",
       "       2, 2, 2, 2, 2, 0, 0, 2, 0, 0, 2, 2, 1, 0, 2, 2, 2, 2, 1, 0, 0, 1,\n",
       "       0, 1, 1, 0, 0, 2, 0, 2, 2, 2, 2, 2, 0, 2, 2, 2, 1, 0, 0, 2, 2, 2,\n",
       "       2, 2, 2, 0, 1, 2, 2, 2, 2, 2, 2, 2, 2, 0, 2, 0, 0, 2, 0, 0, 2, 2,\n",
       "       2, 0, 1, 0, 1, 2, 1, 0, 2, 1, 2, 0, 0, 2, 0, 0, 0, 2, 0, 2, 2, 0,\n",
       "       0, 1, 2, 0, 0, 2, 1, 2, 1, 2, 2, 0, 2, 0, 2, 2, 2, 0, 2, 2, 0, 2,\n",
       "       0, 2, 2, 0, 0, 0, 2, 0, 0, 0, 0, 2, 2, 2, 2, 0, 2, 0, 2, 1, 2, 0,\n",
       "       1, 0, 2, 2, 2, 0, 0, 2, 2, 2, 2, 2, 2, 2, 2, 2, 2, 2, 2, 0, 0, 2,\n",
       "       2, 2, 0, 0, 1, 2, 2, 0, 0, 0, 1, 0, 0, 0, 2, 2, 2, 0, 2, 0, 2, 2,\n",
       "       2, 0, 2, 2, 2, 2, 2, 0, 0, 2, 1, 1, 0, 1, 0, 1, 2, 0, 2, 1, 2, 2,\n",
       "       2, 2, 2, 2, 0, 2, 0, 2, 0, 2, 2, 2, 2, 2, 2, 2, 0, 2, 0, 2, 1, 0,\n",
       "       0, 0, 0, 0, 2, 2, 1, 2, 2, 0, 2, 2, 2, 0, 0, 2, 0, 2, 2, 0, 2, 2,\n",
       "       2, 0, 2, 2, 1, 2, 1, 0, 1, 0, 2, 0, 1, 2, 2, 0, 0, 2, 2, 2, 1, 2,\n",
       "       2, 2, 0, 0, 1, 2, 2, 0, 2, 0, 0, 0, 2, 0, 0, 2, 1, 2, 0, 2, 1, 2,\n",
       "       0, 2, 0, 2, 2, 0, 2, 0, 2, 0, 0, 0, 2, 2, 0, 0, 0, 2, 0, 1, 0, 2,\n",
       "       2, 0, 2, 2, 2, 2, 2, 1, 1, 0, 2, 2, 0, 2, 1, 0, 2, 2, 2, 2, 2, 2,\n",
       "       0, 2, 2, 1, 2, 0, 0, 2, 0, 2, 2, 0, 2, 1, 2, 2, 2, 0, 1, 1, 2, 2,\n",
       "       1, 0, 0, 2, 2, 0, 2, 0, 2, 2, 2, 2, 2, 0, 2, 2, 0, 2, 0, 0, 2, 2,\n",
       "       2, 2, 2, 0, 0, 2, 0, 2, 2, 2, 0, 0, 2, 0, 2, 2, 0, 0, 1, 0, 0, 2,\n",
       "       2, 1, 2, 0, 2, 0, 0, 2, 2, 2, 2, 1, 2, 2, 2, 0, 2, 2, 1, 0, 1, 0,\n",
       "       2, 0, 0, 2, 1, 1, 2, 2, 0, 2, 2, 2, 2, 1, 2, 2, 2, 2, 2, 2, 0, 2,\n",
       "       2, 2, 2, 2, 0, 2, 0, 2, 2, 2, 2, 2, 2, 2, 0, 0, 2, 2, 2, 0, 2, 1,\n",
       "       0, 0, 2, 2, 2, 1, 1, 2, 0, 2, 0, 0, 0, 1, 0, 2, 0, 1, 2, 2, 0, 2,\n",
       "       2, 2, 2, 2, 2, 2, 2, 1, 2, 0, 2, 2, 0, 1, 2, 2, 2, 2, 0, 0, 2, 2,\n",
       "       0, 2, 2, 2, 2, 2, 2, 0, 0, 2, 2, 2, 0, 0, 0, 0, 2, 2, 2, 2, 0, 2,\n",
       "       1, 0, 0, 2, 1, 0, 2, 0, 0, 2, 0, 2, 2, 0, 2, 2, 0, 2, 0, 2, 2, 2,\n",
       "       0, 2, 2, 2, 2, 1, 2, 0, 1, 1, 2, 2, 0, 1, 1, 2, 2, 0, 2, 2, 0, 1,\n",
       "       1, 0, 0, 1, 2, 1, 2, 2, 2, 1, 0, 2, 2, 2, 2, 2, 2, 0, 1, 1, 0, 0,\n",
       "       2, 0, 0, 1, 0, 0, 2, 2, 2, 0, 2, 2, 0, 0, 0, 1, 2, 2, 2, 2, 1, 1,\n",
       "       2, 0, 2, 2, 2], dtype=int64)"
      ]
     },
     "execution_count": 20,
     "metadata": {},
     "output_type": "execute_result"
    }
   ],
   "source": [
    "# import Kfold\n",
    "from sklearn.model_selection import KFold\n",
    "from sklearn.model_selection import cross_val_score\n",
    "from sklearn.model_selection import cross_validate\n",
    "from sklearn.metrics import make_scorer\n",
    "from sklearn.neighbors import KNeighborsClassifier\n",
    "reload_notebook_cell()\n",
    "cv = KFold(n_splits=4, shuffle=False)\n",
    "scoring = make_scorer(f1_score, average='macro')\n",
    "best_net_inputs =   {\n",
    "    \"module__hidden_units\": 80,\n",
    "    \"module__hidden_layers\": 2,\n",
    "    \"module__activation\": torch.nn.ReLU(),\n",
    "    \"module__input_dim\": 204,\n",
    "    \"optimizer__lr\": 0.002000,\n",
    "    \"max_epochs\": 25,\n",
    "    \"module__input_dim\": 200,\n",
    "    \"module__output_dim\": 3,\n",
    "\n",
    "}\n",
    "net_pipeline_best = pipelines.NN_pipeline(X_train_sdas,CATEGORY_COLUMNS_UCML,  **best_net_inputs)\n",
    "# scores_nn = cross_validate(net_pipeline_best, X_train_sdas, y_train_encoded_sdas, cv=cv,\n",
    "#                         scoring=('f1_macro'),\n",
    "#                         return_train_score=True)\n",
    "net_pipeline_best.fit(X_train_sdas, y_train_encoded_sdas.astype(np.int64))\n"
   ]
  },
  {
   "cell_type": "code",
   "execution_count": null,
   "metadata": {},
   "outputs": [],
   "source": []
  }
 ],
 "metadata": {
  "kernelspec": {
   "display_name": "Python 3",
   "language": "python",
   "name": "python3"
  },
  "language_info": {
   "codemirror_mode": {
    "name": "ipython",
    "version": 3
   },
   "file_extension": ".py",
   "mimetype": "text/x-python",
   "name": "python",
   "nbconvert_exporter": "python",
   "pygments_lexer": "ipython3",
   "version": "3.10.14"
  }
 },
 "nbformat": 4,
 "nbformat_minor": 2
}
